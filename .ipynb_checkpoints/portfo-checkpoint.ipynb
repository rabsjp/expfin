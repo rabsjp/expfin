{
 "cells": [
  {
   "cell_type": "code",
   "execution_count": 5,
   "metadata": {},
   "outputs": [
    {
     "data": {
      "image/png": "[encoded data removed]",
      "text/plain": [
       "<matplotlib.figure.Figure at 0x10cd37650>"
      ]
     },
     "metadata": {},
     "output_type": "display_data"
    }
   ],
   "source": [
    "import numpy as np\n",
    "import matplotlib.pyplot as plt\n",
    "from IPython.html.widgets import *\n",
    "%matplotlib inline \n",
    "w = np.arange(0,1.01,.01)\n",
    "r = 0.1\n",
    "rr = 0.3\n",
    "s = 0.09**(.5)\n",
    "ss = 0.04**(.5)\n",
    "\n",
    "def plotrs(rho):\n",
    "    rp = w*r+(1-w)*rr\n",
    "    sp = np.sqrt(w**2*s**2+(1-w)**2*ss**2+2*w*(1-w)*rho*s*ss)\n",
    "    plt.plot(sp,rp,linewidth=3)\n",
    "    plt.plot([s,ss],[r,rr],'bo')\n",
    "    plt.ylabel('return')\n",
    "    plt.xlabel('sd')\n",
    "    plt.ylim(0.0,rr+.1)\n",
    "    plt.xlim(0.0,rr+.1)\n",
    "    plt.show()\n",
    "    \n",
    "interact(plotrs, rho=(-1,1,.2))\n"
   ]
  },
  {
   "cell_type": "code",
   "execution_count": null,
   "metadata": {
    "collapsed": true
   },
   "outputs": [],
   "source": []
  }
 ],
 "metadata": {
  "kernelspec": {
   "display_name": "Python 3",
   "language": "python",
   "name": "python3"
  },
  "language_info": {
   "codemirror_mode": {
    "name": "ipython",
    "version": 3
   },
   "file_extension": ".py",
   "mimetype": "text/x-python",
   "name": "python",
   "nbconvert_exporter": "python",
   "pygments_lexer": "ipython3",
   "version": "3.6.3"
  }
 },
 "nbformat": 4,
 "nbformat_minor": 1
}
